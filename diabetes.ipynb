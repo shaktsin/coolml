{
  "nbformat": 4,
  "nbformat_minor": 0,
  "metadata": {
    "colab": {
      "provenance": [],
      "toc_visible": true,
      "authorship_tag": "ABX9TyP1+/IkljlhpA/QwiSDxSxg",
      "include_colab_link": true
    },
    "kernelspec": {
      "name": "python3",
      "display_name": "Python 3"
    },
    "language_info": {
      "name": "python"
    }
  },
  "cells": [
    {
      "cell_type": "markdown",
      "metadata": {
        "id": "view-in-github",
        "colab_type": "text"
      },
      "source": [
        "<a href=\"https://colab.research.google.com/github/shaktsin/coolml/blob/master/diabetes.ipynb\" target=\"_parent\"><img src=\"https://colab.research.google.com/assets/colab-badge.svg\" alt=\"Open In Colab\"/></a>"
      ]
    },
    {
      "cell_type": "code",
      "execution_count": 1,
      "metadata": {
        "id": "sPhE8evIkj6w"
      },
      "outputs": [],
      "source": [
        "# imports\n",
        "import numpy as np # linear algebra\n",
        "import pandas as pd # data processing, CSV file I/O (e.g. pd.read_csv)\n",
        "import matplotlib.pyplot as plt\n",
        "import os\n",
        "import seaborn as sns\n",
        "from sklearn.tree import DecisionTreeClassifier # Import Decision Tree Classifier\n",
        "from sklearn.model_selection import train_test_split # Import train_test_split function\n",
        "from sklearn import metrics #Import scikit-learn metrics module for accuracy calculation\n",
        "from sklearn.preprocessing import StandardScaler\n",
        "\n",
        "import torch\n",
        "import torch.nn.functional as F\n",
        "import torch.nn as nn"
      ]
    },
    {
      "cell_type": "code",
      "source": [
        "from google.colab import files\n",
        "files.upload()"
      ],
      "metadata": {
        "colab": {
          "base_uri": "https://localhost:8080/",
          "height": 92
        },
        "id": "woCruKUQlh00",
        "outputId": "8bdc14e6-aabd-4054-d5fe-692d0f0abd75"
      },
      "execution_count": 2,
      "outputs": [
        {
          "output_type": "display_data",
          "data": {
            "text/plain": [
              "<IPython.core.display.HTML object>"
            ],
            "text/html": [
              "\n",
              "     <input type=\"file\" id=\"files-ad9065f3-20d5-4fc8-8be6-bb16f98b0e30\" name=\"files[]\" multiple disabled\n",
              "        style=\"border:none\" />\n",
              "     <output id=\"result-ad9065f3-20d5-4fc8-8be6-bb16f98b0e30\">\n",
              "      Upload widget is only available when the cell has been executed in the\n",
              "      current browser session. Please rerun this cell to enable.\n",
              "      </output>\n",
              "      <script>// Copyright 2017 Google LLC\n",
              "//\n",
              "// Licensed under the Apache License, Version 2.0 (the \"License\");\n",
              "// you may not use this file except in compliance with the License.\n",
              "// You may obtain a copy of the License at\n",
              "//\n",
              "//      http://www.apache.org/licenses/LICENSE-2.0\n",
              "//\n",
              "// Unless required by applicable law or agreed to in writing, software\n",
              "// distributed under the License is distributed on an \"AS IS\" BASIS,\n",
              "// WITHOUT WARRANTIES OR CONDITIONS OF ANY KIND, either express or implied.\n",
              "// See the License for the specific language governing permissions and\n",
              "// limitations under the License.\n",
              "\n",
              "/**\n",
              " * @fileoverview Helpers for google.colab Python module.\n",
              " */\n",
              "(function(scope) {\n",
              "function span(text, styleAttributes = {}) {\n",
              "  const element = document.createElement('span');\n",
              "  element.textContent = text;\n",
              "  for (const key of Object.keys(styleAttributes)) {\n",
              "    element.style[key] = styleAttributes[key];\n",
              "  }\n",
              "  return element;\n",
              "}\n",
              "\n",
              "// Max number of bytes which will be uploaded at a time.\n",
              "const MAX_PAYLOAD_SIZE = 100 * 1024;\n",
              "\n",
              "function _uploadFiles(inputId, outputId) {\n",
              "  const steps = uploadFilesStep(inputId, outputId);\n",
              "  const outputElement = document.getElementById(outputId);\n",
              "  // Cache steps on the outputElement to make it available for the next call\n",
              "  // to uploadFilesContinue from Python.\n",
              "  outputElement.steps = steps;\n",
              "\n",
              "  return _uploadFilesContinue(outputId);\n",
              "}\n",
              "\n",
              "// This is roughly an async generator (not supported in the browser yet),\n",
              "// where there are multiple asynchronous steps and the Python side is going\n",
              "// to poll for completion of each step.\n",
              "// This uses a Promise to block the python side on completion of each step,\n",
              "// then passes the result of the previous step as the input to the next step.\n",
              "function _uploadFilesContinue(outputId) {\n",
              "  const outputElement = document.getElementById(outputId);\n",
              "  const steps = outputElement.steps;\n",
              "\n",
              "  const next = steps.next(outputElement.lastPromiseValue);\n",
              "  return Promise.resolve(next.value.promise).then((value) => {\n",
              "    // Cache the last promise value to make it available to the next\n",
              "    // step of the generator.\n",
              "    outputElement.lastPromiseValue = value;\n",
              "    return next.value.response;\n",
              "  });\n",
              "}\n",
              "\n",
              "/**\n",
              " * Generator function which is called between each async step of the upload\n",
              " * process.\n",
              " * @param {string} inputId Element ID of the input file picker element.\n",
              " * @param {string} outputId Element ID of the output display.\n",
              " * @return {!Iterable<!Object>} Iterable of next steps.\n",
              " */\n",
              "function* uploadFilesStep(inputId, outputId) {\n",
              "  const inputElement = document.getElementById(inputId);\n",
              "  inputElement.disabled = false;\n",
              "\n",
              "  const outputElement = document.getElementById(outputId);\n",
              "  outputElement.innerHTML = '';\n",
              "\n",
              "  const pickedPromise = new Promise((resolve) => {\n",
              "    inputElement.addEventListener('change', (e) => {\n",
              "      resolve(e.target.files);\n",
              "    });\n",
              "  });\n",
              "\n",
              "  const cancel = document.createElement('button');\n",
              "  inputElement.parentElement.appendChild(cancel);\n",
              "  cancel.textContent = 'Cancel upload';\n",
              "  const cancelPromise = new Promise((resolve) => {\n",
              "    cancel.onclick = () => {\n",
              "      resolve(null);\n",
              "    };\n",
              "  });\n",
              "\n",
              "  // Wait for the user to pick the files.\n",
              "  const files = yield {\n",
              "    promise: Promise.race([pickedPromise, cancelPromise]),\n",
              "    response: {\n",
              "      action: 'starting',\n",
              "    }\n",
              "  };\n",
              "\n",
              "  cancel.remove();\n",
              "\n",
              "  // Disable the input element since further picks are not allowed.\n",
              "  inputElement.disabled = true;\n",
              "\n",
              "  if (!files) {\n",
              "    return {\n",
              "      response: {\n",
              "        action: 'complete',\n",
              "      }\n",
              "    };\n",
              "  }\n",
              "\n",
              "  for (const file of files) {\n",
              "    const li = document.createElement('li');\n",
              "    li.append(span(file.name, {fontWeight: 'bold'}));\n",
              "    li.append(span(\n",
              "        `(${file.type || 'n/a'}) - ${file.size} bytes, ` +\n",
              "        `last modified: ${\n",
              "            file.lastModifiedDate ? file.lastModifiedDate.toLocaleDateString() :\n",
              "                                    'n/a'} - `));\n",
              "    const percent = span('0% done');\n",
              "    li.appendChild(percent);\n",
              "\n",
              "    outputElement.appendChild(li);\n",
              "\n",
              "    const fileDataPromise = new Promise((resolve) => {\n",
              "      const reader = new FileReader();\n",
              "      reader.onload = (e) => {\n",
              "        resolve(e.target.result);\n",
              "      };\n",
              "      reader.readAsArrayBuffer(file);\n",
              "    });\n",
              "    // Wait for the data to be ready.\n",
              "    let fileData = yield {\n",
              "      promise: fileDataPromise,\n",
              "      response: {\n",
              "        action: 'continue',\n",
              "      }\n",
              "    };\n",
              "\n",
              "    // Use a chunked sending to avoid message size limits. See b/62115660.\n",
              "    let position = 0;\n",
              "    do {\n",
              "      const length = Math.min(fileData.byteLength - position, MAX_PAYLOAD_SIZE);\n",
              "      const chunk = new Uint8Array(fileData, position, length);\n",
              "      position += length;\n",
              "\n",
              "      const base64 = btoa(String.fromCharCode.apply(null, chunk));\n",
              "      yield {\n",
              "        response: {\n",
              "          action: 'append',\n",
              "          file: file.name,\n",
              "          data: base64,\n",
              "        },\n",
              "      };\n",
              "\n",
              "      let percentDone = fileData.byteLength === 0 ?\n",
              "          100 :\n",
              "          Math.round((position / fileData.byteLength) * 100);\n",
              "      percent.textContent = `${percentDone}% done`;\n",
              "\n",
              "    } while (position < fileData.byteLength);\n",
              "  }\n",
              "\n",
              "  // All done.\n",
              "  yield {\n",
              "    response: {\n",
              "      action: 'complete',\n",
              "    }\n",
              "  };\n",
              "}\n",
              "\n",
              "scope.google = scope.google || {};\n",
              "scope.google.colab = scope.google.colab || {};\n",
              "scope.google.colab._files = {\n",
              "  _uploadFiles,\n",
              "  _uploadFilesContinue,\n",
              "};\n",
              "})(self);\n",
              "</script> "
            ]
          },
          "metadata": {}
        },
        {
          "output_type": "stream",
          "name": "stdout",
          "text": [
            "Saving kaggle.json to kaggle.json\n"
          ]
        },
        {
          "output_type": "execute_result",
          "data": {
            "text/plain": [
              "{'kaggle.json': b'{\"username\":\"shaktsin31\",\"key\":\"541bf01e8c0aa37ce781a5d4fb91371e\"}'}"
            ]
          },
          "metadata": {},
          "execution_count": 2
        }
      ]
    },
    {
      "cell_type": "code",
      "source": [
        "!pip install -q kaggle"
      ],
      "metadata": {
        "id": "rPGgWPWklnAj"
      },
      "execution_count": 3,
      "outputs": []
    },
    {
      "cell_type": "code",
      "source": [
        "!mkdir -p ~/.kaggle\n",
        "!cp kaggle.json ~/.kaggle/\n",
        "!chmod 600 /root/.kaggle/kaggle.json"
      ],
      "metadata": {
        "id": "Z_jWhDkdl2Gl"
      },
      "execution_count": 8,
      "outputs": []
    },
    {
      "cell_type": "code",
      "source": [
        "!kaggle datasets list"
      ],
      "metadata": {
        "colab": {
          "base_uri": "https://localhost:8080/"
        },
        "id": "-pO9G477l49q",
        "outputId": "cdee03f2-70aa-4b77-a65a-14517dd922e1"
      },
      "execution_count": 6,
      "outputs": [
        {
          "output_type": "stream",
          "name": "stdout",
          "text": [
            "Warning: Your Kaggle API key is readable by other users on this system! To fix this, you can run 'chmod 600 /root/.kaggle/kaggle.json'\n",
            "ref                                                              title                                                size  lastUpdated          downloadCount  voteCount  usabilityRating  \n",
            "---------------------------------------------------------------  --------------------------------------------------  -----  -------------------  -------------  ---------  ---------------  \n",
            "stealthtechnologies/predict-student-performance-dataset          Predict Student Performance                          12KB  2024-12-26 12:57:04           1891         48  1.0              \n",
            "anandshaw2001/mobile-apps-screentime-analysis                    Mobile Apps ScreenTime Analysis                       2KB  2024-12-31 18:20:51            778         24  1.0              \n",
            "oktayrdeki/heart-disease                                         Heart Disease                                       568KB  2024-12-29 13:26:49           1464         37  1.0              \n",
            "ankushpanday1/heart-attack-in-youth-of-india                     Heart attack in youth of India                      298KB  2025-01-02 15:20:31           1175         34  1.0              \n",
            "bhadramohit/customer-shopping-latest-trends-dataset              Customer Shopping (Latest Trends) Dataset            76KB  2024-11-23 15:26:12          22334        415  1.0              \n",
            "willianoliveiragibin/marketing-behavior                          Marketing Behavior                                   15KB  2024-12-25 21:09:31            932         22  1.0              \n",
            "umerhaddii/apple-stock-data-2025                                 Apple Stock Data 2025                               301KB  2025-01-03 16:47:04            641         34  1.0              \n",
            "hopesb/student-depression-dataset                                Student Depression Dataset.                         454KB  2024-11-22 17:56:03          17583        250  1.0              \n",
            "fatmanur12/new-york-air-quality                                  New York Air Quality                                166KB  2025-01-01 19:19:59            730         27  1.0              \n",
            "mhassansaboor/toyota-motors-stock-data-2980-2024                 Toyota Motors Stock Data (1980-2024)                189KB  2024-12-28 20:26:56           1078         45  1.0              \n",
            "simronw/tesla-stock-data-2024                                    TESLA Stock Data 2024                                91KB  2024-12-14 06:01:36           1239         24  1.0              \n",
            "abdulmalik1518/the-ultimate-cars-dataset-2024                    The Ultimate Cars Dataset 2024                       25KB  2024-12-30 14:45:41            970         33  1.0              \n",
            "yaaryiitturan/global-tech-salary-dataset                         Global Tech Salary Dataset                           43KB  2024-12-30 12:52:44            694         30  1.0              \n",
            "hassanelfattmi/why-do-customers-leave-can-you-spot-the-churners  Why Do Customers Leave? Can You Spot the Churners?    3MB  2024-12-21 11:49:00            822         21  1.0              \n",
            "ankushpanday1/heart-attack-in-youth-vs-adult-in-americastate     Heart Attack in Youth Vs Adult in America(State)     96MB  2025-01-05 13:18:05            425         22  1.0              \n",
            "denkuznetz/food-delivery-time-prediction                         Food Delivery Time Prediction 🛵                      12KB  2024-12-23 13:12:14           1691         42  1.0              \n",
            "govindaramsriram/sleep-time-prediction                           Sleep Time Prediction                                28KB  2024-12-28 17:08:56           1497         34  1.0              \n",
            "taimoor888/top-100-youtube-channels-in-2024                      Top 100 YouTube Channels in 2024                      3KB  2024-12-15 16:09:25           1656         46  1.0              \n",
            "govindaramsriram/crop-yield-of-a-farm                            Crop Yield of a Farm                                 28KB  2024-12-28 18:12:16            925         30  1.0              \n",
            "willianoliveiragibin/water-sanitation-and-hygiene                Water, Sanitation and Hygiene                        33KB  2024-12-30 20:41:52            422         23  1.0              \n"
          ]
        }
      ]
    },
    {
      "cell_type": "code",
      "source": [
        "!kaggle datasets download -d uciml/pima-indians-diabetes-database"
      ],
      "metadata": {
        "colab": {
          "base_uri": "https://localhost:8080/"
        },
        "id": "lOr-u57kmRsi",
        "outputId": "00bea9c4-e5fc-46c6-cf88-8e0e9a13448d"
      },
      "execution_count": 11,
      "outputs": [
        {
          "output_type": "stream",
          "name": "stdout",
          "text": [
            "Dataset URL: https://www.kaggle.com/datasets/uciml/pima-indians-diabetes-database\n",
            "License(s): CC0-1.0\n",
            "Downloading pima-indians-diabetes-database.zip to /content\n",
            "  0% 0.00/8.91k [00:00<?, ?B/s]\n",
            "100% 8.91k/8.91k [00:00<00:00, 15.8MB/s]\n"
          ]
        }
      ]
    },
    {
      "cell_type": "code",
      "source": [
        "!unzip pima-indians-diabetes-database.zip"
      ],
      "metadata": {
        "colab": {
          "base_uri": "https://localhost:8080/"
        },
        "id": "rlnGKE8Xna_j",
        "outputId": "72e48c70-4524-4840-b562-8e5055721619"
      },
      "execution_count": 22,
      "outputs": [
        {
          "output_type": "stream",
          "name": "stdout",
          "text": [
            "Archive:  pima-indians-diabetes-database.zip\n",
            "  inflating: diabetes.csv            \n"
          ]
        }
      ]
    },
    {
      "cell_type": "code",
      "source": [
        "df = pd.read_csv(\"diabetes.csv\")\n",
        "df.head()"
      ],
      "metadata": {
        "colab": {
          "base_uri": "https://localhost:8080/",
          "height": 206
        },
        "id": "JWkrmdNSoEOt",
        "outputId": "3852dd54-df53-4fe6-b6bb-e37c21cb7f63"
      },
      "execution_count": 23,
      "outputs": [
        {
          "output_type": "execute_result",
          "data": {
            "text/plain": [
              "   Pregnancies  Glucose  BloodPressure  SkinThickness  Insulin   BMI  \\\n",
              "0            6      148             72             35        0  33.6   \n",
              "1            1       85             66             29        0  26.6   \n",
              "2            8      183             64              0        0  23.3   \n",
              "3            1       89             66             23       94  28.1   \n",
              "4            0      137             40             35      168  43.1   \n",
              "\n",
              "   DiabetesPedigreeFunction  Age  Outcome  \n",
              "0                     0.627   50        1  \n",
              "1                     0.351   31        0  \n",
              "2                     0.672   32        1  \n",
              "3                     0.167   21        0  \n",
              "4                     2.288   33        1  "
            ],
            "text/html": [
              "\n",
              "  <div id=\"df-255fde97-dce6-4c69-a43e-1be4ca2522a3\" class=\"colab-df-container\">\n",
              "    <div>\n",
              "<style scoped>\n",
              "    .dataframe tbody tr th:only-of-type {\n",
              "        vertical-align: middle;\n",
              "    }\n",
              "\n",
              "    .dataframe tbody tr th {\n",
              "        vertical-align: top;\n",
              "    }\n",
              "\n",
              "    .dataframe thead th {\n",
              "        text-align: right;\n",
              "    }\n",
              "</style>\n",
              "<table border=\"1\" class=\"dataframe\">\n",
              "  <thead>\n",
              "    <tr style=\"text-align: right;\">\n",
              "      <th></th>\n",
              "      <th>Pregnancies</th>\n",
              "      <th>Glucose</th>\n",
              "      <th>BloodPressure</th>\n",
              "      <th>SkinThickness</th>\n",
              "      <th>Insulin</th>\n",
              "      <th>BMI</th>\n",
              "      <th>DiabetesPedigreeFunction</th>\n",
              "      <th>Age</th>\n",
              "      <th>Outcome</th>\n",
              "    </tr>\n",
              "  </thead>\n",
              "  <tbody>\n",
              "    <tr>\n",
              "      <th>0</th>\n",
              "      <td>6</td>\n",
              "      <td>148</td>\n",
              "      <td>72</td>\n",
              "      <td>35</td>\n",
              "      <td>0</td>\n",
              "      <td>33.6</td>\n",
              "      <td>0.627</td>\n",
              "      <td>50</td>\n",
              "      <td>1</td>\n",
              "    </tr>\n",
              "    <tr>\n",
              "      <th>1</th>\n",
              "      <td>1</td>\n",
              "      <td>85</td>\n",
              "      <td>66</td>\n",
              "      <td>29</td>\n",
              "      <td>0</td>\n",
              "      <td>26.6</td>\n",
              "      <td>0.351</td>\n",
              "      <td>31</td>\n",
              "      <td>0</td>\n",
              "    </tr>\n",
              "    <tr>\n",
              "      <th>2</th>\n",
              "      <td>8</td>\n",
              "      <td>183</td>\n",
              "      <td>64</td>\n",
              "      <td>0</td>\n",
              "      <td>0</td>\n",
              "      <td>23.3</td>\n",
              "      <td>0.672</td>\n",
              "      <td>32</td>\n",
              "      <td>1</td>\n",
              "    </tr>\n",
              "    <tr>\n",
              "      <th>3</th>\n",
              "      <td>1</td>\n",
              "      <td>89</td>\n",
              "      <td>66</td>\n",
              "      <td>23</td>\n",
              "      <td>94</td>\n",
              "      <td>28.1</td>\n",
              "      <td>0.167</td>\n",
              "      <td>21</td>\n",
              "      <td>0</td>\n",
              "    </tr>\n",
              "    <tr>\n",
              "      <th>4</th>\n",
              "      <td>0</td>\n",
              "      <td>137</td>\n",
              "      <td>40</td>\n",
              "      <td>35</td>\n",
              "      <td>168</td>\n",
              "      <td>43.1</td>\n",
              "      <td>2.288</td>\n",
              "      <td>33</td>\n",
              "      <td>1</td>\n",
              "    </tr>\n",
              "  </tbody>\n",
              "</table>\n",
              "</div>\n",
              "    <div class=\"colab-df-buttons\">\n",
              "\n",
              "  <div class=\"colab-df-container\">\n",
              "    <button class=\"colab-df-convert\" onclick=\"convertToInteractive('df-255fde97-dce6-4c69-a43e-1be4ca2522a3')\"\n",
              "            title=\"Convert this dataframe to an interactive table.\"\n",
              "            style=\"display:none;\">\n",
              "\n",
              "  <svg xmlns=\"http://www.w3.org/2000/svg\" height=\"24px\" viewBox=\"0 -960 960 960\">\n",
              "    <path d=\"M120-120v-720h720v720H120Zm60-500h600v-160H180v160Zm220 220h160v-160H400v160Zm0 220h160v-160H400v160ZM180-400h160v-160H180v160Zm440 0h160v-160H620v160ZM180-180h160v-160H180v160Zm440 0h160v-160H620v160Z\"/>\n",
              "  </svg>\n",
              "    </button>\n",
              "\n",
              "  <style>\n",
              "    .colab-df-container {\n",
              "      display:flex;\n",
              "      gap: 12px;\n",
              "    }\n",
              "\n",
              "    .colab-df-convert {\n",
              "      background-color: #E8F0FE;\n",
              "      border: none;\n",
              "      border-radius: 50%;\n",
              "      cursor: pointer;\n",
              "      display: none;\n",
              "      fill: #1967D2;\n",
              "      height: 32px;\n",
              "      padding: 0 0 0 0;\n",
              "      width: 32px;\n",
              "    }\n",
              "\n",
              "    .colab-df-convert:hover {\n",
              "      background-color: #E2EBFA;\n",
              "      box-shadow: 0px 1px 2px rgba(60, 64, 67, 0.3), 0px 1px 3px 1px rgba(60, 64, 67, 0.15);\n",
              "      fill: #174EA6;\n",
              "    }\n",
              "\n",
              "    .colab-df-buttons div {\n",
              "      margin-bottom: 4px;\n",
              "    }\n",
              "\n",
              "    [theme=dark] .colab-df-convert {\n",
              "      background-color: #3B4455;\n",
              "      fill: #D2E3FC;\n",
              "    }\n",
              "\n",
              "    [theme=dark] .colab-df-convert:hover {\n",
              "      background-color: #434B5C;\n",
              "      box-shadow: 0px 1px 3px 1px rgba(0, 0, 0, 0.15);\n",
              "      filter: drop-shadow(0px 1px 2px rgba(0, 0, 0, 0.3));\n",
              "      fill: #FFFFFF;\n",
              "    }\n",
              "  </style>\n",
              "\n",
              "    <script>\n",
              "      const buttonEl =\n",
              "        document.querySelector('#df-255fde97-dce6-4c69-a43e-1be4ca2522a3 button.colab-df-convert');\n",
              "      buttonEl.style.display =\n",
              "        google.colab.kernel.accessAllowed ? 'block' : 'none';\n",
              "\n",
              "      async function convertToInteractive(key) {\n",
              "        const element = document.querySelector('#df-255fde97-dce6-4c69-a43e-1be4ca2522a3');\n",
              "        const dataTable =\n",
              "          await google.colab.kernel.invokeFunction('convertToInteractive',\n",
              "                                                    [key], {});\n",
              "        if (!dataTable) return;\n",
              "\n",
              "        const docLinkHtml = 'Like what you see? Visit the ' +\n",
              "          '<a target=\"_blank\" href=https://colab.research.google.com/notebooks/data_table.ipynb>data table notebook</a>'\n",
              "          + ' to learn more about interactive tables.';\n",
              "        element.innerHTML = '';\n",
              "        dataTable['output_type'] = 'display_data';\n",
              "        await google.colab.output.renderOutput(dataTable, element);\n",
              "        const docLink = document.createElement('div');\n",
              "        docLink.innerHTML = docLinkHtml;\n",
              "        element.appendChild(docLink);\n",
              "      }\n",
              "    </script>\n",
              "  </div>\n",
              "\n",
              "\n",
              "<div id=\"df-daea3abf-80a5-4e83-afdc-1bfcdccc7908\">\n",
              "  <button class=\"colab-df-quickchart\" onclick=\"quickchart('df-daea3abf-80a5-4e83-afdc-1bfcdccc7908')\"\n",
              "            title=\"Suggest charts\"\n",
              "            style=\"display:none;\">\n",
              "\n",
              "<svg xmlns=\"http://www.w3.org/2000/svg\" height=\"24px\"viewBox=\"0 0 24 24\"\n",
              "     width=\"24px\">\n",
              "    <g>\n",
              "        <path d=\"M19 3H5c-1.1 0-2 .9-2 2v14c0 1.1.9 2 2 2h14c1.1 0 2-.9 2-2V5c0-1.1-.9-2-2-2zM9 17H7v-7h2v7zm4 0h-2V7h2v10zm4 0h-2v-4h2v4z\"/>\n",
              "    </g>\n",
              "</svg>\n",
              "  </button>\n",
              "\n",
              "<style>\n",
              "  .colab-df-quickchart {\n",
              "      --bg-color: #E8F0FE;\n",
              "      --fill-color: #1967D2;\n",
              "      --hover-bg-color: #E2EBFA;\n",
              "      --hover-fill-color: #174EA6;\n",
              "      --disabled-fill-color: #AAA;\n",
              "      --disabled-bg-color: #DDD;\n",
              "  }\n",
              "\n",
              "  [theme=dark] .colab-df-quickchart {\n",
              "      --bg-color: #3B4455;\n",
              "      --fill-color: #D2E3FC;\n",
              "      --hover-bg-color: #434B5C;\n",
              "      --hover-fill-color: #FFFFFF;\n",
              "      --disabled-bg-color: #3B4455;\n",
              "      --disabled-fill-color: #666;\n",
              "  }\n",
              "\n",
              "  .colab-df-quickchart {\n",
              "    background-color: var(--bg-color);\n",
              "    border: none;\n",
              "    border-radius: 50%;\n",
              "    cursor: pointer;\n",
              "    display: none;\n",
              "    fill: var(--fill-color);\n",
              "    height: 32px;\n",
              "    padding: 0;\n",
              "    width: 32px;\n",
              "  }\n",
              "\n",
              "  .colab-df-quickchart:hover {\n",
              "    background-color: var(--hover-bg-color);\n",
              "    box-shadow: 0 1px 2px rgba(60, 64, 67, 0.3), 0 1px 3px 1px rgba(60, 64, 67, 0.15);\n",
              "    fill: var(--button-hover-fill-color);\n",
              "  }\n",
              "\n",
              "  .colab-df-quickchart-complete:disabled,\n",
              "  .colab-df-quickchart-complete:disabled:hover {\n",
              "    background-color: var(--disabled-bg-color);\n",
              "    fill: var(--disabled-fill-color);\n",
              "    box-shadow: none;\n",
              "  }\n",
              "\n",
              "  .colab-df-spinner {\n",
              "    border: 2px solid var(--fill-color);\n",
              "    border-color: transparent;\n",
              "    border-bottom-color: var(--fill-color);\n",
              "    animation:\n",
              "      spin 1s steps(1) infinite;\n",
              "  }\n",
              "\n",
              "  @keyframes spin {\n",
              "    0% {\n",
              "      border-color: transparent;\n",
              "      border-bottom-color: var(--fill-color);\n",
              "      border-left-color: var(--fill-color);\n",
              "    }\n",
              "    20% {\n",
              "      border-color: transparent;\n",
              "      border-left-color: var(--fill-color);\n",
              "      border-top-color: var(--fill-color);\n",
              "    }\n",
              "    30% {\n",
              "      border-color: transparent;\n",
              "      border-left-color: var(--fill-color);\n",
              "      border-top-color: var(--fill-color);\n",
              "      border-right-color: var(--fill-color);\n",
              "    }\n",
              "    40% {\n",
              "      border-color: transparent;\n",
              "      border-right-color: var(--fill-color);\n",
              "      border-top-color: var(--fill-color);\n",
              "    }\n",
              "    60% {\n",
              "      border-color: transparent;\n",
              "      border-right-color: var(--fill-color);\n",
              "    }\n",
              "    80% {\n",
              "      border-color: transparent;\n",
              "      border-right-color: var(--fill-color);\n",
              "      border-bottom-color: var(--fill-color);\n",
              "    }\n",
              "    90% {\n",
              "      border-color: transparent;\n",
              "      border-bottom-color: var(--fill-color);\n",
              "    }\n",
              "  }\n",
              "</style>\n",
              "\n",
              "  <script>\n",
              "    async function quickchart(key) {\n",
              "      const quickchartButtonEl =\n",
              "        document.querySelector('#' + key + ' button');\n",
              "      quickchartButtonEl.disabled = true;  // To prevent multiple clicks.\n",
              "      quickchartButtonEl.classList.add('colab-df-spinner');\n",
              "      try {\n",
              "        const charts = await google.colab.kernel.invokeFunction(\n",
              "            'suggestCharts', [key], {});\n",
              "      } catch (error) {\n",
              "        console.error('Error during call to suggestCharts:', error);\n",
              "      }\n",
              "      quickchartButtonEl.classList.remove('colab-df-spinner');\n",
              "      quickchartButtonEl.classList.add('colab-df-quickchart-complete');\n",
              "    }\n",
              "    (() => {\n",
              "      let quickchartButtonEl =\n",
              "        document.querySelector('#df-daea3abf-80a5-4e83-afdc-1bfcdccc7908 button');\n",
              "      quickchartButtonEl.style.display =\n",
              "        google.colab.kernel.accessAllowed ? 'block' : 'none';\n",
              "    })();\n",
              "  </script>\n",
              "</div>\n",
              "\n",
              "    </div>\n",
              "  </div>\n"
            ],
            "application/vnd.google.colaboratory.intrinsic+json": {
              "type": "dataframe",
              "variable_name": "df",
              "summary": "{\n  \"name\": \"df\",\n  \"rows\": 768,\n  \"fields\": [\n    {\n      \"column\": \"Pregnancies\",\n      \"properties\": {\n        \"dtype\": \"number\",\n        \"std\": 3,\n        \"min\": 0,\n        \"max\": 17,\n        \"num_unique_values\": 17,\n        \"samples\": [\n          6,\n          1,\n          3\n        ],\n        \"semantic_type\": \"\",\n        \"description\": \"\"\n      }\n    },\n    {\n      \"column\": \"Glucose\",\n      \"properties\": {\n        \"dtype\": \"number\",\n        \"std\": 31,\n        \"min\": 0,\n        \"max\": 199,\n        \"num_unique_values\": 136,\n        \"samples\": [\n          151,\n          101,\n          112\n        ],\n        \"semantic_type\": \"\",\n        \"description\": \"\"\n      }\n    },\n    {\n      \"column\": \"BloodPressure\",\n      \"properties\": {\n        \"dtype\": \"number\",\n        \"std\": 19,\n        \"min\": 0,\n        \"max\": 122,\n        \"num_unique_values\": 47,\n        \"samples\": [\n          86,\n          46,\n          85\n        ],\n        \"semantic_type\": \"\",\n        \"description\": \"\"\n      }\n    },\n    {\n      \"column\": \"SkinThickness\",\n      \"properties\": {\n        \"dtype\": \"number\",\n        \"std\": 15,\n        \"min\": 0,\n        \"max\": 99,\n        \"num_unique_values\": 51,\n        \"samples\": [\n          7,\n          12,\n          48\n        ],\n        \"semantic_type\": \"\",\n        \"description\": \"\"\n      }\n    },\n    {\n      \"column\": \"Insulin\",\n      \"properties\": {\n        \"dtype\": \"number\",\n        \"std\": 115,\n        \"min\": 0,\n        \"max\": 846,\n        \"num_unique_values\": 186,\n        \"samples\": [\n          52,\n          41,\n          183\n        ],\n        \"semantic_type\": \"\",\n        \"description\": \"\"\n      }\n    },\n    {\n      \"column\": \"BMI\",\n      \"properties\": {\n        \"dtype\": \"number\",\n        \"std\": 7.8841603203754405,\n        \"min\": 0.0,\n        \"max\": 67.1,\n        \"num_unique_values\": 248,\n        \"samples\": [\n          19.9,\n          31.0,\n          38.1\n        ],\n        \"semantic_type\": \"\",\n        \"description\": \"\"\n      }\n    },\n    {\n      \"column\": \"DiabetesPedigreeFunction\",\n      \"properties\": {\n        \"dtype\": \"number\",\n        \"std\": 0.33132859501277484,\n        \"min\": 0.078,\n        \"max\": 2.42,\n        \"num_unique_values\": 517,\n        \"samples\": [\n          1.731,\n          0.426,\n          0.138\n        ],\n        \"semantic_type\": \"\",\n        \"description\": \"\"\n      }\n    },\n    {\n      \"column\": \"Age\",\n      \"properties\": {\n        \"dtype\": \"number\",\n        \"std\": 11,\n        \"min\": 21,\n        \"max\": 81,\n        \"num_unique_values\": 52,\n        \"samples\": [\n          60,\n          47,\n          72\n        ],\n        \"semantic_type\": \"\",\n        \"description\": \"\"\n      }\n    },\n    {\n      \"column\": \"Outcome\",\n      \"properties\": {\n        \"dtype\": \"number\",\n        \"std\": 0,\n        \"min\": 0,\n        \"max\": 1,\n        \"num_unique_values\": 2,\n        \"samples\": [\n          0,\n          1\n        ],\n        \"semantic_type\": \"\",\n        \"description\": \"\"\n      }\n    }\n  ]\n}"
            }
          },
          "metadata": {},
          "execution_count": 23
        }
      ]
    },
    {
      "cell_type": "code",
      "source": [
        "features = [\"Pregnancies\", \"Glucose\", \"BloodPressure\", \"SkinThickness\", \"Insulin\", \"BMI\", \"DiabetesPedigreeFunction\", \"Age\"]\n",
        "label = \"Outcome\"\n",
        "X = df[features] # Features\n",
        "y = df[f\"{label}\"] # Target variable"
      ],
      "metadata": {
        "id": "Gp1PfAdEoP-k"
      },
      "execution_count": 24,
      "outputs": []
    },
    {
      "cell_type": "code",
      "source": [
        "# Split dataset into training set and test set\n",
        "X_train, X_test, y_train, y_test = train_test_split(X, y, test_size=0.2, random_state=42) # 80% training and 20% test"
      ],
      "metadata": {
        "id": "HTw6wd0ioZZT"
      },
      "execution_count": 25,
      "outputs": []
    },
    {
      "cell_type": "code",
      "source": [
        "# scaling data\n",
        "scaler = StandardScaler()\n",
        "X_train = scaler.fit_transform(X_train)\n",
        "X_test = scaler.fit_transform(X_test)\n",
        "X_train.shape, X_test.shape"
      ],
      "metadata": {
        "colab": {
          "base_uri": "https://localhost:8080/"
        },
        "id": "C9ureHH6okm_",
        "outputId": "9b431ea5-59d9-41c0-c708-e1c0f3bc6a24"
      },
      "execution_count": 26,
      "outputs": [
        {
          "output_type": "execute_result",
          "data": {
            "text/plain": [
              "((614, 8), (154, 8))"
            ]
          },
          "metadata": {},
          "execution_count": 26
        }
      ]
    },
    {
      "cell_type": "code",
      "source": [
        "g = torch.Generator().manual_seed(2147483647)"
      ],
      "metadata": {
        "id": "uNyXRLD3on3t"
      },
      "execution_count": 27,
      "outputs": []
    },
    {
      "cell_type": "code",
      "source": [
        "class Layer(nn.Module):\n",
        "    def __init__(self, fan_in, fan_out, bias=False):\n",
        "        super().__init__()\n",
        "        self.bias = bias\n",
        "        self.w = nn.Parameter(torch.randn((fan_in, fan_out), generator = g) / fan_in**0.5)\n",
        "        self.b = nn.Parameter(torch.zeros(fan_out)) if self.bias else None\n",
        "\n",
        "    def __call__(self, x):\n",
        "        # x : B x D -> B batch and D feature dim\n",
        "        # w : D x D1 -> D feature dimension and D1 - number of tensors in layer\n",
        "        self.out = x @ self.w # B X D1\n",
        "        if self.bias:\n",
        "            self.out += self.b # B x D1\n",
        "        return self.out"
      ],
      "metadata": {
        "id": "96Dv3wkHorhq"
      },
      "execution_count": 28,
      "outputs": []
    },
    {
      "cell_type": "code",
      "source": [
        "class Tanh(nn.Module):\n",
        "  def __call__(self, x):\n",
        "    self.out = torch.tanh(x)\n",
        "    return self.out\n",
        "  def parameters(self):\n",
        "    return []"
      ],
      "metadata": {
        "id": "F2M5rzG4os-E"
      },
      "execution_count": 29,
      "outputs": []
    },
    {
      "cell_type": "code",
      "source": [
        "m = nn.Sequential(\n",
        "    Layer(8, 128, bias=True), Tanh(), # 8000 + 1000 - 9000\n",
        "    Layer(128, 64, bias=True), Tanh(), # 400 + 400000 - 400400\n",
        "    Layer(64, 2, bias=True), # 2 + 800\n",
        ")\n",
        "for p in m.parameters():\n",
        "    p.requires_grad = True"
      ],
      "metadata": {
        "id": "s8OzyB-7oxIn"
      },
      "execution_count": 53,
      "outputs": []
    },
    {
      "cell_type": "code",
      "source": [
        "X_Train = torch.Tensor(X_train)\n",
        "X_Test = torch.Tensor(X_test)\n",
        "Y_Train = torch.LongTensor(y_train.to_numpy())\n",
        "Y_Test = torch.LongTensor(y_test.to_numpy())\n",
        "X_Train.shape, X_Test.shape, Y_Train.shape, Y_Test.shape"
      ],
      "metadata": {
        "colab": {
          "base_uri": "https://localhost:8080/"
        },
        "id": "lGxpAkHwozvf",
        "outputId": "d5fb3f09-b2f4-496d-8341-672b29f4e76a"
      },
      "execution_count": 31,
      "outputs": [
        {
          "output_type": "execute_result",
          "data": {
            "text/plain": [
              "(torch.Size([614, 8]),\n",
              " torch.Size([154, 8]),\n",
              " torch.Size([614]),\n",
              " torch.Size([154]))"
            ]
          },
          "metadata": {},
          "execution_count": 31
        }
      ]
    },
    {
      "cell_type": "code",
      "source": [
        "# accuracy\n",
        "def accuracy_fn(y_pred, y_true):\n",
        "    correct = torch.eq(y_true, y_pred).sum().item() # torch.eq() calculates where two tensors are equal\n",
        "    acc = (correct / len(y_pred)) * 100\n",
        "    return acc"
      ],
      "metadata": {
        "id": "lxFv6Qk6pCez"
      },
      "execution_count": 34,
      "outputs": []
    },
    {
      "cell_type": "code",
      "source": [
        "# training\n",
        "loss_fn = nn.CrossEntropyLoss()\n",
        "optimizer = torch.optim.Adam(m.parameters(), lr=0.01)\n",
        "torch.manual_seed(42)\n",
        "epochs = 2000\n",
        "lossTr = []\n",
        "lossTe = []\n",
        "\n",
        "for epoch in range(epochs):\n",
        "    # put model in train mode\n",
        "    m.train()\n",
        "\n",
        "    optimizer.zero_grad()\n",
        "\n",
        "    probs = m(X_Train)\n",
        "    y_pred = probs.argmax(dim=1)\n",
        "\n",
        "    loss = loss_fn(probs, Y_Train)\n",
        "    acc = accuracy_fn(Y_Train, y_pred)\n",
        "    lossTr.append(loss.item())\n",
        "\n",
        "\n",
        "    loss.backward()\n",
        "    optimizer.step()\n",
        "\n",
        "    m.eval()\n",
        "\n",
        "    with torch.inference_mode():\n",
        "        probs_test = m(X_Test)\n",
        "        y_test_pred = probs_test.argmax(dim=1)\n",
        "\n",
        "        test_loss = loss_fn(probs_test, Y_Test)\n",
        "        test_acc = accuracy_fn(Y_Test, y_test_pred)\n",
        "        lossTe.append(test_loss.item())\n",
        "\n",
        "    if epoch % 10 == 0:\n",
        "        print(f\"Epoch: {epoch} | Loss: {loss.item():.5f}, Acc: {acc:.2f}% | Test Loss: {test_loss.item():.5f}, Test Acc: {test_acc:.2f}%\")"
      ],
      "metadata": {
        "colab": {
          "base_uri": "https://localhost:8080/"
        },
        "id": "DkZjOHDro5F-",
        "outputId": "97ba4035-01c9-4e59-ccda-f652809eac0e"
      },
      "execution_count": 54,
      "outputs": [
        {
          "output_type": "stream",
          "name": "stdout",
          "text": [
            "Epoch: 0 | Loss: 0.77295, Acc: 46.91% | Test Loss: 0.61010, Test Acc: 69.48%\n",
            "Epoch: 10 | Loss: 0.45020, Acc: 78.66% | Test Loss: 0.50591, Test Acc: 74.68%\n",
            "Epoch: 20 | Loss: 0.42275, Acc: 80.29% | Test Loss: 0.53938, Test Acc: 76.62%\n",
            "Epoch: 30 | Loss: 0.38878, Acc: 81.11% | Test Loss: 0.51522, Test Acc: 74.68%\n",
            "Epoch: 40 | Loss: 0.33656, Acc: 84.85% | Test Loss: 0.54994, Test Acc: 73.38%\n",
            "Epoch: 50 | Loss: 0.26406, Acc: 89.58% | Test Loss: 0.61505, Test Acc: 71.43%\n",
            "Epoch: 60 | Loss: 0.18185, Acc: 94.63% | Test Loss: 0.69352, Test Acc: 68.83%\n",
            "Epoch: 70 | Loss: 0.10951, Acc: 98.21% | Test Loss: 0.83562, Test Acc: 70.13%\n",
            "Epoch: 80 | Loss: 0.06010, Acc: 99.51% | Test Loss: 0.98555, Test Acc: 70.78%\n",
            "Epoch: 90 | Loss: 0.03320, Acc: 100.00% | Test Loss: 1.14353, Test Acc: 71.43%\n",
            "Epoch: 100 | Loss: 0.01972, Acc: 100.00% | Test Loss: 1.26739, Test Acc: 71.43%\n",
            "Epoch: 110 | Loss: 0.01287, Acc: 100.00% | Test Loss: 1.36930, Test Acc: 70.78%\n",
            "Epoch: 120 | Loss: 0.00916, Acc: 100.00% | Test Loss: 1.45500, Test Acc: 71.43%\n",
            "Epoch: 130 | Loss: 0.00696, Acc: 100.00% | Test Loss: 1.51781, Test Acc: 71.43%\n",
            "Epoch: 140 | Loss: 0.00553, Acc: 100.00% | Test Loss: 1.56935, Test Acc: 70.78%\n",
            "Epoch: 150 | Loss: 0.00455, Acc: 100.00% | Test Loss: 1.61285, Test Acc: 70.78%\n",
            "Epoch: 160 | Loss: 0.00382, Acc: 100.00% | Test Loss: 1.65014, Test Acc: 70.78%\n",
            "Epoch: 170 | Loss: 0.00327, Acc: 100.00% | Test Loss: 1.68328, Test Acc: 70.78%\n",
            "Epoch: 180 | Loss: 0.00284, Acc: 100.00% | Test Loss: 1.71340, Test Acc: 70.78%\n",
            "Epoch: 190 | Loss: 0.00249, Acc: 100.00% | Test Loss: 1.74096, Test Acc: 70.78%\n",
            "Epoch: 200 | Loss: 0.00221, Acc: 100.00% | Test Loss: 1.76621, Test Acc: 70.78%\n",
            "Epoch: 210 | Loss: 0.00198, Acc: 100.00% | Test Loss: 1.78970, Test Acc: 70.78%\n",
            "Epoch: 220 | Loss: 0.00178, Acc: 100.00% | Test Loss: 1.81189, Test Acc: 70.78%\n",
            "Epoch: 230 | Loss: 0.00161, Acc: 100.00% | Test Loss: 1.83303, Test Acc: 70.78%\n",
            "Epoch: 240 | Loss: 0.00146, Acc: 100.00% | Test Loss: 1.85321, Test Acc: 70.78%\n",
            "Epoch: 250 | Loss: 0.00134, Acc: 100.00% | Test Loss: 1.87217, Test Acc: 70.78%\n",
            "Epoch: 260 | Loss: 0.00123, Acc: 100.00% | Test Loss: 1.88905, Test Acc: 70.78%\n",
            "Epoch: 270 | Loss: 0.00113, Acc: 100.00% | Test Loss: 1.90382, Test Acc: 70.78%\n",
            "Epoch: 280 | Loss: 0.00104, Acc: 100.00% | Test Loss: 1.91823, Test Acc: 70.78%\n",
            "Epoch: 290 | Loss: 0.00096, Acc: 100.00% | Test Loss: 1.93277, Test Acc: 71.43%\n",
            "Epoch: 300 | Loss: 0.00090, Acc: 100.00% | Test Loss: 1.94721, Test Acc: 71.43%\n",
            "Epoch: 310 | Loss: 0.00084, Acc: 100.00% | Test Loss: 1.96130, Test Acc: 71.43%\n",
            "Epoch: 320 | Loss: 0.00079, Acc: 100.00% | Test Loss: 1.97508, Test Acc: 71.43%\n",
            "Epoch: 330 | Loss: 0.00074, Acc: 100.00% | Test Loss: 1.98852, Test Acc: 71.43%\n",
            "Epoch: 340 | Loss: 0.00069, Acc: 100.00% | Test Loss: 2.00158, Test Acc: 71.43%\n",
            "Epoch: 350 | Loss: 0.00065, Acc: 100.00% | Test Loss: 2.01426, Test Acc: 71.43%\n",
            "Epoch: 360 | Loss: 0.00062, Acc: 100.00% | Test Loss: 2.02655, Test Acc: 71.43%\n",
            "Epoch: 370 | Loss: 0.00059, Acc: 100.00% | Test Loss: 2.03848, Test Acc: 71.43%\n",
            "Epoch: 380 | Loss: 0.00056, Acc: 100.00% | Test Loss: 2.05005, Test Acc: 71.43%\n",
            "Epoch: 390 | Loss: 0.00053, Acc: 100.00% | Test Loss: 2.06128, Test Acc: 71.43%\n",
            "Epoch: 400 | Loss: 0.00050, Acc: 100.00% | Test Loss: 2.07218, Test Acc: 71.43%\n",
            "Epoch: 410 | Loss: 0.00048, Acc: 100.00% | Test Loss: 2.08277, Test Acc: 71.43%\n",
            "Epoch: 420 | Loss: 0.00046, Acc: 100.00% | Test Loss: 2.09308, Test Acc: 71.43%\n",
            "Epoch: 430 | Loss: 0.00044, Acc: 100.00% | Test Loss: 2.10311, Test Acc: 71.43%\n",
            "Epoch: 440 | Loss: 0.00042, Acc: 100.00% | Test Loss: 2.11288, Test Acc: 71.43%\n",
            "Epoch: 450 | Loss: 0.00040, Acc: 100.00% | Test Loss: 2.12242, Test Acc: 71.43%\n",
            "Epoch: 460 | Loss: 0.00038, Acc: 100.00% | Test Loss: 2.13172, Test Acc: 71.43%\n",
            "Epoch: 470 | Loss: 0.00037, Acc: 100.00% | Test Loss: 2.14081, Test Acc: 71.43%\n",
            "Epoch: 480 | Loss: 0.00035, Acc: 100.00% | Test Loss: 2.14969, Test Acc: 71.43%\n",
            "Epoch: 490 | Loss: 0.00034, Acc: 100.00% | Test Loss: 2.15838, Test Acc: 71.43%\n",
            "Epoch: 500 | Loss: 0.00033, Acc: 100.00% | Test Loss: 2.16688, Test Acc: 71.43%\n",
            "Epoch: 510 | Loss: 0.00031, Acc: 100.00% | Test Loss: 2.17520, Test Acc: 71.43%\n",
            "Epoch: 520 | Loss: 0.00030, Acc: 100.00% | Test Loss: 2.18336, Test Acc: 71.43%\n",
            "Epoch: 530 | Loss: 0.00029, Acc: 100.00% | Test Loss: 2.19135, Test Acc: 71.43%\n",
            "Epoch: 540 | Loss: 0.00028, Acc: 100.00% | Test Loss: 2.19919, Test Acc: 71.43%\n",
            "Epoch: 550 | Loss: 0.00027, Acc: 100.00% | Test Loss: 2.20688, Test Acc: 71.43%\n",
            "Epoch: 560 | Loss: 0.00026, Acc: 100.00% | Test Loss: 2.21444, Test Acc: 71.43%\n",
            "Epoch: 570 | Loss: 0.00025, Acc: 100.00% | Test Loss: 2.22185, Test Acc: 71.43%\n",
            "Epoch: 580 | Loss: 0.00025, Acc: 100.00% | Test Loss: 2.22914, Test Acc: 72.08%\n",
            "Epoch: 590 | Loss: 0.00024, Acc: 100.00% | Test Loss: 2.23630, Test Acc: 72.08%\n",
            "Epoch: 600 | Loss: 0.00023, Acc: 100.00% | Test Loss: 2.24334, Test Acc: 72.08%\n",
            "Epoch: 610 | Loss: 0.00022, Acc: 100.00% | Test Loss: 2.25026, Test Acc: 72.08%\n",
            "Epoch: 620 | Loss: 0.00022, Acc: 100.00% | Test Loss: 2.25707, Test Acc: 72.08%\n",
            "Epoch: 630 | Loss: 0.00021, Acc: 100.00% | Test Loss: 2.26377, Test Acc: 72.08%\n",
            "Epoch: 640 | Loss: 0.00020, Acc: 100.00% | Test Loss: 2.27037, Test Acc: 72.08%\n",
            "Epoch: 650 | Loss: 0.00020, Acc: 100.00% | Test Loss: 2.27686, Test Acc: 72.08%\n",
            "Epoch: 660 | Loss: 0.00019, Acc: 100.00% | Test Loss: 2.28326, Test Acc: 72.08%\n",
            "Epoch: 670 | Loss: 0.00019, Acc: 100.00% | Test Loss: 2.28956, Test Acc: 72.08%\n",
            "Epoch: 680 | Loss: 0.00018, Acc: 100.00% | Test Loss: 2.29577, Test Acc: 72.08%\n",
            "Epoch: 690 | Loss: 0.00018, Acc: 100.00% | Test Loss: 2.30189, Test Acc: 72.08%\n",
            "Epoch: 700 | Loss: 0.00017, Acc: 100.00% | Test Loss: 2.30792, Test Acc: 72.08%\n",
            "Epoch: 710 | Loss: 0.00017, Acc: 100.00% | Test Loss: 2.31387, Test Acc: 72.08%\n",
            "Epoch: 720 | Loss: 0.00016, Acc: 100.00% | Test Loss: 2.31974, Test Acc: 72.08%\n",
            "Epoch: 730 | Loss: 0.00016, Acc: 100.00% | Test Loss: 2.32552, Test Acc: 72.08%\n",
            "Epoch: 740 | Loss: 0.00015, Acc: 100.00% | Test Loss: 2.33123, Test Acc: 72.08%\n",
            "Epoch: 750 | Loss: 0.00015, Acc: 100.00% | Test Loss: 2.33687, Test Acc: 72.08%\n",
            "Epoch: 760 | Loss: 0.00015, Acc: 100.00% | Test Loss: 2.34242, Test Acc: 72.08%\n",
            "Epoch: 770 | Loss: 0.00014, Acc: 100.00% | Test Loss: 2.34791, Test Acc: 72.08%\n",
            "Epoch: 780 | Loss: 0.00014, Acc: 100.00% | Test Loss: 2.35333, Test Acc: 72.08%\n",
            "Epoch: 790 | Loss: 0.00014, Acc: 100.00% | Test Loss: 2.35869, Test Acc: 72.08%\n",
            "Epoch: 800 | Loss: 0.00013, Acc: 100.00% | Test Loss: 2.36397, Test Acc: 72.08%\n",
            "Epoch: 810 | Loss: 0.00013, Acc: 100.00% | Test Loss: 2.36919, Test Acc: 72.08%\n",
            "Epoch: 820 | Loss: 0.00013, Acc: 100.00% | Test Loss: 2.37435, Test Acc: 72.08%\n",
            "Epoch: 830 | Loss: 0.00012, Acc: 100.00% | Test Loss: 2.37945, Test Acc: 72.08%\n",
            "Epoch: 840 | Loss: 0.00012, Acc: 100.00% | Test Loss: 2.38449, Test Acc: 72.08%\n",
            "Epoch: 850 | Loss: 0.00012, Acc: 100.00% | Test Loss: 2.38947, Test Acc: 72.08%\n",
            "Epoch: 860 | Loss: 0.00012, Acc: 100.00% | Test Loss: 2.39439, Test Acc: 72.08%\n",
            "Epoch: 870 | Loss: 0.00011, Acc: 100.00% | Test Loss: 2.39926, Test Acc: 72.08%\n",
            "Epoch: 880 | Loss: 0.00011, Acc: 100.00% | Test Loss: 2.40407, Test Acc: 72.08%\n",
            "Epoch: 890 | Loss: 0.00011, Acc: 100.00% | Test Loss: 2.40884, Test Acc: 72.08%\n",
            "Epoch: 900 | Loss: 0.00011, Acc: 100.00% | Test Loss: 2.41355, Test Acc: 72.08%\n",
            "Epoch: 910 | Loss: 0.00010, Acc: 100.00% | Test Loss: 2.41821, Test Acc: 72.08%\n",
            "Epoch: 920 | Loss: 0.00010, Acc: 100.00% | Test Loss: 2.42282, Test Acc: 72.08%\n",
            "Epoch: 930 | Loss: 0.00010, Acc: 100.00% | Test Loss: 2.42738, Test Acc: 72.08%\n",
            "Epoch: 940 | Loss: 0.00010, Acc: 100.00% | Test Loss: 2.43190, Test Acc: 72.08%\n",
            "Epoch: 950 | Loss: 0.00010, Acc: 100.00% | Test Loss: 2.43637, Test Acc: 72.08%\n",
            "Epoch: 960 | Loss: 0.00009, Acc: 100.00% | Test Loss: 2.44080, Test Acc: 72.08%\n",
            "Epoch: 970 | Loss: 0.00009, Acc: 100.00% | Test Loss: 2.44518, Test Acc: 72.08%\n",
            "Epoch: 980 | Loss: 0.00009, Acc: 100.00% | Test Loss: 2.44952, Test Acc: 72.08%\n",
            "Epoch: 990 | Loss: 0.00009, Acc: 100.00% | Test Loss: 2.45382, Test Acc: 72.08%\n",
            "Epoch: 1000 | Loss: 0.00009, Acc: 100.00% | Test Loss: 2.45809, Test Acc: 72.08%\n",
            "Epoch: 1010 | Loss: 0.00009, Acc: 100.00% | Test Loss: 2.46231, Test Acc: 72.08%\n",
            "Epoch: 1020 | Loss: 0.00008, Acc: 100.00% | Test Loss: 2.46649, Test Acc: 72.08%\n",
            "Epoch: 1030 | Loss: 0.00008, Acc: 100.00% | Test Loss: 2.47064, Test Acc: 72.08%\n",
            "Epoch: 1040 | Loss: 0.00008, Acc: 100.00% | Test Loss: 2.47474, Test Acc: 72.08%\n",
            "Epoch: 1050 | Loss: 0.00008, Acc: 100.00% | Test Loss: 2.47882, Test Acc: 72.08%\n",
            "Epoch: 1060 | Loss: 0.00008, Acc: 100.00% | Test Loss: 2.48285, Test Acc: 72.08%\n",
            "Epoch: 1070 | Loss: 0.00008, Acc: 100.00% | Test Loss: 2.48686, Test Acc: 72.08%\n",
            "Epoch: 1080 | Loss: 0.00007, Acc: 100.00% | Test Loss: 2.49082, Test Acc: 72.08%\n",
            "Epoch: 1090 | Loss: 0.00007, Acc: 100.00% | Test Loss: 2.49476, Test Acc: 72.08%\n",
            "Epoch: 1100 | Loss: 0.00007, Acc: 100.00% | Test Loss: 2.49866, Test Acc: 72.08%\n",
            "Epoch: 1110 | Loss: 0.00007, Acc: 100.00% | Test Loss: 2.50254, Test Acc: 72.08%\n",
            "Epoch: 1120 | Loss: 0.00007, Acc: 100.00% | Test Loss: 2.50638, Test Acc: 72.08%\n",
            "Epoch: 1130 | Loss: 0.00007, Acc: 100.00% | Test Loss: 2.51019, Test Acc: 72.08%\n",
            "Epoch: 1140 | Loss: 0.00007, Acc: 100.00% | Test Loss: 2.51397, Test Acc: 72.08%\n",
            "Epoch: 1150 | Loss: 0.00007, Acc: 100.00% | Test Loss: 2.51773, Test Acc: 72.08%\n",
            "Epoch: 1160 | Loss: 0.00006, Acc: 100.00% | Test Loss: 2.52145, Test Acc: 72.08%\n",
            "Epoch: 1170 | Loss: 0.00006, Acc: 100.00% | Test Loss: 2.52514, Test Acc: 72.08%\n",
            "Epoch: 1180 | Loss: 0.00006, Acc: 100.00% | Test Loss: 2.52881, Test Acc: 72.08%\n",
            "Epoch: 1190 | Loss: 0.00006, Acc: 100.00% | Test Loss: 2.53245, Test Acc: 72.08%\n",
            "Epoch: 1200 | Loss: 0.00006, Acc: 100.00% | Test Loss: 2.53607, Test Acc: 72.08%\n",
            "Epoch: 1210 | Loss: 0.00006, Acc: 100.00% | Test Loss: 2.53966, Test Acc: 72.08%\n",
            "Epoch: 1220 | Loss: 0.00006, Acc: 100.00% | Test Loss: 2.54322, Test Acc: 72.08%\n",
            "Epoch: 1230 | Loss: 0.00006, Acc: 100.00% | Test Loss: 2.54676, Test Acc: 72.08%\n",
            "Epoch: 1240 | Loss: 0.00006, Acc: 100.00% | Test Loss: 2.55027, Test Acc: 72.08%\n",
            "Epoch: 1250 | Loss: 0.00006, Acc: 100.00% | Test Loss: 2.55376, Test Acc: 72.08%\n",
            "Epoch: 1260 | Loss: 0.00006, Acc: 100.00% | Test Loss: 2.55723, Test Acc: 72.08%\n",
            "Epoch: 1270 | Loss: 0.00005, Acc: 100.00% | Test Loss: 2.56067, Test Acc: 72.08%\n",
            "Epoch: 1280 | Loss: 0.00005, Acc: 100.00% | Test Loss: 2.56410, Test Acc: 72.08%\n",
            "Epoch: 1290 | Loss: 0.00005, Acc: 100.00% | Test Loss: 2.56749, Test Acc: 72.08%\n",
            "Epoch: 1300 | Loss: 0.00005, Acc: 100.00% | Test Loss: 2.57087, Test Acc: 72.08%\n",
            "Epoch: 1310 | Loss: 0.00005, Acc: 100.00% | Test Loss: 2.57423, Test Acc: 72.08%\n",
            "Epoch: 1320 | Loss: 0.00005, Acc: 100.00% | Test Loss: 2.57756, Test Acc: 72.08%\n",
            "Epoch: 1330 | Loss: 0.00005, Acc: 100.00% | Test Loss: 2.58087, Test Acc: 72.08%\n",
            "Epoch: 1340 | Loss: 0.00005, Acc: 100.00% | Test Loss: 2.58416, Test Acc: 72.08%\n",
            "Epoch: 1350 | Loss: 0.00005, Acc: 100.00% | Test Loss: 2.58743, Test Acc: 72.08%\n",
            "Epoch: 1360 | Loss: 0.00005, Acc: 100.00% | Test Loss: 2.59068, Test Acc: 72.08%\n",
            "Epoch: 1370 | Loss: 0.00005, Acc: 100.00% | Test Loss: 2.59391, Test Acc: 72.08%\n",
            "Epoch: 1380 | Loss: 0.00005, Acc: 100.00% | Test Loss: 2.59712, Test Acc: 72.08%\n",
            "Epoch: 1390 | Loss: 0.00005, Acc: 100.00% | Test Loss: 2.60031, Test Acc: 72.08%\n",
            "Epoch: 1400 | Loss: 0.00004, Acc: 100.00% | Test Loss: 2.60348, Test Acc: 72.08%\n",
            "Epoch: 1410 | Loss: 0.00004, Acc: 100.00% | Test Loss: 2.60663, Test Acc: 72.08%\n",
            "Epoch: 1420 | Loss: 0.00004, Acc: 100.00% | Test Loss: 2.60977, Test Acc: 72.08%\n",
            "Epoch: 1430 | Loss: 0.00004, Acc: 100.00% | Test Loss: 2.61289, Test Acc: 72.08%\n",
            "Epoch: 1440 | Loss: 0.00004, Acc: 100.00% | Test Loss: 2.61599, Test Acc: 72.08%\n",
            "Epoch: 1450 | Loss: 0.00004, Acc: 100.00% | Test Loss: 2.61907, Test Acc: 72.08%\n",
            "Epoch: 1460 | Loss: 0.00004, Acc: 100.00% | Test Loss: 2.62213, Test Acc: 72.08%\n",
            "Epoch: 1470 | Loss: 0.00004, Acc: 100.00% | Test Loss: 2.62518, Test Acc: 72.08%\n",
            "Epoch: 1480 | Loss: 0.00004, Acc: 100.00% | Test Loss: 2.62821, Test Acc: 72.08%\n",
            "Epoch: 1490 | Loss: 0.00004, Acc: 100.00% | Test Loss: 2.63123, Test Acc: 72.08%\n",
            "Epoch: 1500 | Loss: 0.00004, Acc: 100.00% | Test Loss: 2.63422, Test Acc: 72.08%\n",
            "Epoch: 1510 | Loss: 0.00004, Acc: 100.00% | Test Loss: 2.63721, Test Acc: 72.08%\n",
            "Epoch: 1520 | Loss: 0.00004, Acc: 100.00% | Test Loss: 2.64017, Test Acc: 72.08%\n",
            "Epoch: 1530 | Loss: 0.00004, Acc: 100.00% | Test Loss: 2.64312, Test Acc: 72.08%\n",
            "Epoch: 1540 | Loss: 0.00004, Acc: 100.00% | Test Loss: 2.64606, Test Acc: 72.08%\n",
            "Epoch: 1550 | Loss: 0.00004, Acc: 100.00% | Test Loss: 2.64898, Test Acc: 72.08%\n",
            "Epoch: 1560 | Loss: 0.00004, Acc: 100.00% | Test Loss: 2.65188, Test Acc: 72.08%\n",
            "Epoch: 1570 | Loss: 0.00004, Acc: 100.00% | Test Loss: 2.65477, Test Acc: 72.08%\n",
            "Epoch: 1580 | Loss: 0.00003, Acc: 100.00% | Test Loss: 2.65765, Test Acc: 72.08%\n",
            "Epoch: 1590 | Loss: 0.00003, Acc: 100.00% | Test Loss: 2.66051, Test Acc: 72.08%\n",
            "Epoch: 1600 | Loss: 0.00003, Acc: 100.00% | Test Loss: 2.66336, Test Acc: 72.08%\n",
            "Epoch: 1610 | Loss: 0.00003, Acc: 100.00% | Test Loss: 2.66619, Test Acc: 72.08%\n",
            "Epoch: 1620 | Loss: 0.00003, Acc: 100.00% | Test Loss: 2.66901, Test Acc: 72.08%\n",
            "Epoch: 1630 | Loss: 0.00003, Acc: 100.00% | Test Loss: 2.67181, Test Acc: 72.08%\n",
            "Epoch: 1640 | Loss: 0.00003, Acc: 100.00% | Test Loss: 2.67460, Test Acc: 72.08%\n",
            "Epoch: 1650 | Loss: 0.00003, Acc: 100.00% | Test Loss: 2.67738, Test Acc: 72.08%\n",
            "Epoch: 1660 | Loss: 0.00003, Acc: 100.00% | Test Loss: 2.68015, Test Acc: 72.08%\n",
            "Epoch: 1670 | Loss: 0.00003, Acc: 100.00% | Test Loss: 2.68290, Test Acc: 72.08%\n",
            "Epoch: 1680 | Loss: 0.00003, Acc: 100.00% | Test Loss: 2.68564, Test Acc: 72.08%\n",
            "Epoch: 1690 | Loss: 0.00003, Acc: 100.00% | Test Loss: 2.68836, Test Acc: 72.08%\n",
            "Epoch: 1700 | Loss: 0.00003, Acc: 100.00% | Test Loss: 2.69107, Test Acc: 72.08%\n",
            "Epoch: 1710 | Loss: 0.00003, Acc: 100.00% | Test Loss: 2.69377, Test Acc: 72.08%\n",
            "Epoch: 1720 | Loss: 0.00003, Acc: 100.00% | Test Loss: 2.69646, Test Acc: 72.08%\n",
            "Epoch: 1730 | Loss: 0.00003, Acc: 100.00% | Test Loss: 2.69914, Test Acc: 72.08%\n",
            "Epoch: 1740 | Loss: 0.00003, Acc: 100.00% | Test Loss: 2.70180, Test Acc: 72.08%\n",
            "Epoch: 1750 | Loss: 0.00003, Acc: 100.00% | Test Loss: 2.70445, Test Acc: 72.08%\n",
            "Epoch: 1760 | Loss: 0.00003, Acc: 100.00% | Test Loss: 2.70709, Test Acc: 72.08%\n",
            "Epoch: 1770 | Loss: 0.00003, Acc: 100.00% | Test Loss: 2.70972, Test Acc: 72.08%\n",
            "Epoch: 1780 | Loss: 0.00003, Acc: 100.00% | Test Loss: 2.71234, Test Acc: 72.08%\n",
            "Epoch: 1790 | Loss: 0.00003, Acc: 100.00% | Test Loss: 2.71495, Test Acc: 72.08%\n",
            "Epoch: 1800 | Loss: 0.00003, Acc: 100.00% | Test Loss: 2.71754, Test Acc: 72.08%\n",
            "Epoch: 1810 | Loss: 0.00003, Acc: 100.00% | Test Loss: 2.72013, Test Acc: 72.08%\n",
            "Epoch: 1820 | Loss: 0.00003, Acc: 100.00% | Test Loss: 2.72270, Test Acc: 72.08%\n",
            "Epoch: 1830 | Loss: 0.00003, Acc: 100.00% | Test Loss: 2.72526, Test Acc: 72.08%\n",
            "Epoch: 1840 | Loss: 0.00003, Acc: 100.00% | Test Loss: 2.72781, Test Acc: 72.08%\n",
            "Epoch: 1850 | Loss: 0.00003, Acc: 100.00% | Test Loss: 2.73035, Test Acc: 72.08%\n",
            "Epoch: 1860 | Loss: 0.00002, Acc: 100.00% | Test Loss: 2.73288, Test Acc: 72.08%\n",
            "Epoch: 1870 | Loss: 0.00002, Acc: 100.00% | Test Loss: 2.73540, Test Acc: 72.08%\n",
            "Epoch: 1880 | Loss: 0.00002, Acc: 100.00% | Test Loss: 2.73790, Test Acc: 72.08%\n",
            "Epoch: 1890 | Loss: 0.00002, Acc: 100.00% | Test Loss: 2.74041, Test Acc: 72.08%\n",
            "Epoch: 1900 | Loss: 0.00002, Acc: 100.00% | Test Loss: 2.74290, Test Acc: 72.08%\n",
            "Epoch: 1910 | Loss: 0.00002, Acc: 100.00% | Test Loss: 2.74537, Test Acc: 72.08%\n",
            "Epoch: 1920 | Loss: 0.00002, Acc: 100.00% | Test Loss: 2.74784, Test Acc: 72.08%\n",
            "Epoch: 1930 | Loss: 0.00002, Acc: 100.00% | Test Loss: 2.75030, Test Acc: 72.08%\n",
            "Epoch: 1940 | Loss: 0.00002, Acc: 100.00% | Test Loss: 2.75275, Test Acc: 72.08%\n",
            "Epoch: 1950 | Loss: 0.00002, Acc: 100.00% | Test Loss: 2.75519, Test Acc: 72.08%\n",
            "Epoch: 1960 | Loss: 0.00002, Acc: 100.00% | Test Loss: 2.75762, Test Acc: 72.08%\n",
            "Epoch: 1970 | Loss: 0.00002, Acc: 100.00% | Test Loss: 2.76004, Test Acc: 72.08%\n",
            "Epoch: 1980 | Loss: 0.00002, Acc: 100.00% | Test Loss: 2.76245, Test Acc: 72.08%\n",
            "Epoch: 1990 | Loss: 0.00002, Acc: 100.00% | Test Loss: 2.76486, Test Acc: 72.08%\n"
          ]
        }
      ]
    },
    {
      "cell_type": "code",
      "source": [
        "data = {'TrainLoss': lossTr, 'TestLoss': lossTe}\n",
        "ldf = pd.DataFrame(data)\n",
        "#ldf.to_csv('loss.csv', index=False)\n",
        "\n",
        "#ldf = pd.DataFrame(losses, columns=['TrainLoss', 'TestLoss'])\n",
        "sns.lineplot(data=ldf)"
      ],
      "metadata": {
        "colab": {
          "base_uri": "https://localhost:8080/",
          "height": 448
        },
        "id": "vVmvS6VeqD4x",
        "outputId": "fc002807-dba6-4178-9f48-15905aafad82"
      },
      "execution_count": 55,
      "outputs": [
        {
          "output_type": "execute_result",
          "data": {
            "text/plain": [
              "<Axes: >"
            ]
          },
          "metadata": {},
          "execution_count": 55
        },
        {
          "output_type": "display_data",
          "data": {
            "text/plain": [
              "<Figure size 640x480 with 1 Axes>"
            ],
            "image/png": "[encoded data removed]"
          },
          "metadata": {}
        }
      ]
    },
    {
      "cell_type": "code",
      "source": [
        "# evaluation\n",
        "m.eval()\n",
        "logits = m(X_Test)\n",
        "probs = F.softmax(logits, dim=1)\n",
        "ix = probs.argmax(dim=1)\n",
        "acc = accuracy_fn(ix.view((154, )), Y_Test)\n",
        "print(f\" Test accurancy {acc:.2f}\")"
      ],
      "metadata": {
        "colab": {
          "base_uri": "https://localhost:8080/"
        },
        "id": "LovP3LX4pJ5e",
        "outputId": "5764830f-784f-48c5-d528-706012b53766"
      },
      "execution_count": 41,
      "outputs": [
        {
          "output_type": "stream",
          "name": "stdout",
          "text": [
            " Test accurancy 70.13\n"
          ]
        }
      ]
    }
  ]
}