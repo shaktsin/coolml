{
  "nbformat": 4,
  "nbformat_minor": 0,
  "metadata": {
    "colab": {
      "provenance": [],
      "authorship_tag": "ABX9TyPJRuvqnpCjVOeanb6e8Cmq",
      "include_colab_link": true
    },
    "kernelspec": {
      "name": "python3",
      "display_name": "Python 3"
    },
    "language_info": {
      "name": "python"
    }
  },
  "cells": [
    {
      "cell_type": "markdown",
      "metadata": {
        "id": "view-in-github",
        "colab_type": "text"
      },
      "source": [
        "<a href=\"https://colab.research.google.com/github/shaktsin/coolml/blob/master/cnn_layer_handcarfted.ipynb\" target=\"_parent\"><img src=\"https://colab.research.google.com/assets/colab-badge.svg\" alt=\"Open In Colab\"/></a>"
      ]
    },
    {
      "cell_type": "code",
      "execution_count": 2,
      "metadata": {
        "id": "ZYAbYSVHdBTz"
      },
      "outputs": [],
      "source": [
        "import torch\n",
        "import torch.nn as nn\n",
        "import torch.nn.functional as F"
      ]
    },
    {
      "cell_type": "code",
      "source": [
        " k_shp = (3, 3)\n",
        " filters = torch.randn((3,) + k_shp)\n",
        " filters.shape"
      ],
      "metadata": {
        "colab": {
          "base_uri": "https://localhost:8080/"
        },
        "id": "p3jp5AT8eHpo",
        "outputId": "d7f7e6d6-f9fb-4aac-9502-435fa126241e"
      },
      "execution_count": 11,
      "outputs": [
        {
          "output_type": "execute_result",
          "data": {
            "text/plain": [
              "torch.Size([3, 3, 3])"
            ]
          },
          "metadata": {},
          "execution_count": 11
        }
      ]
    },
    {
      "cell_type": "code",
      "source": [
        "g = torch.Generator().manual_seed(12143242)"
      ],
      "metadata": {
        "id": "5E41FaKgj2JJ"
      },
      "execution_count": 14,
      "outputs": []
    },
    {
      "cell_type": "code",
      "source": [
        "a = torch.randn((5, 5), generator=g)\n",
        "k = torch.randn((3, 3), generator=g)"
      ],
      "metadata": {
        "id": "wyglmTH7sSis"
      },
      "execution_count": 15,
      "outputs": []
    },
    {
      "cell_type": "code",
      "source": [
        "input_tensor = torch.tensor([[[[1, 2, 3],\n",
        "                               [4, 5, 6],\n",
        "                               [7, 8, 9]]]], dtype=torch.float32)\n",
        "input_tensor.shape"
      ],
      "metadata": {
        "colab": {
          "base_uri": "https://localhost:8080/"
        },
        "id": "VVnb50Imsc7z",
        "outputId": "b358259a-c5e4-4ffb-bbf9-cdfff5cf4543"
      },
      "execution_count": 16,
      "outputs": [
        {
          "output_type": "execute_result",
          "data": {
            "text/plain": [
              "torch.Size([1, 1, 3, 3])"
            ]
          },
          "metadata": {},
          "execution_count": 16
        }
      ]
    },
    {
      "cell_type": "code",
      "source": [
        "class FunCon2D:\n",
        "  def __init__(self, inc, outc, k_shape, stride=1, padding=0):\n",
        "    # Cout, Ho, Wo\n",
        "    self.kernel = torch.randn((outc,) + k_shape, generator = g) # one channel, but need outc channel\n",
        "    self.out = None\n",
        "    self.grad = None\n",
        "\n",
        "  # forward\n",
        "  def __call__(self, x): # x - N, Cin, H, W\n",
        "    pass\n",
        "\n",
        "  # backward\n",
        "  def backward(self):\n",
        "    pass"
      ],
      "metadata": {
        "id": "9uKlCnxAdZJ4"
      },
      "execution_count": 7,
      "outputs": []
    }
  ]
}